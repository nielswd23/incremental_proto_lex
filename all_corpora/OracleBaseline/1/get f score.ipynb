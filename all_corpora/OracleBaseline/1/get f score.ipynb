{
 "cells": [
  {
   "cell_type": "markdown",
   "id": "345be40d",
   "metadata": {},
   "source": [
    "# get the f-score for a corpus, with reference to the correct segmentation\n"
   ]
  },
  {
   "cell_type": "code",
   "execution_count": 14,
   "id": "9f04a94b",
   "metadata": {},
   "outputs": [
    {
     "name": "stdout",
     "output_type": "stream",
     "text": [
      "28391\n",
      "28391\n",
      "Precision: 0.2576, Recall: 0.2566, F1-score: 0.2571\n"
     ]
    }
   ],
   "source": [
    "# read in the gold segmentation\n",
    "\n",
    "# and the predicted segmentation\n",
    "#!conda install -y -c conda-forge sklearn\n",
    "import os\n",
    "import sys\n",
    "import re\n",
    "\n",
    "gold = open(\"corrected_true.txt\", \"r\").read().strip().split(\"\\n\")\n",
    "pred = open(\"Model.txt\", \"r\").read().strip().split(\"\\n\")\n",
    "\n",
    "from sklearn.metrics import precision_score, recall_score, f1_score\n",
    "\n",
    "def extract_boundaries(segmented_text):\n",
    "    \"\"\"\n",
    "    Given a segmented text where words are separated by spaces,\n",
    "    return a list of boundary markers (1 for a boundary, 0 for no boundary).\n",
    "    \"\"\"\n",
    "    boundaries = []\n",
    "    for word in segmented_text.split():\n",
    "        boundaries.extend([0] * (len(word) - 1) + [1])\n",
    "    if boundaries:\n",
    "        boundaries.pop()  # Remove the final boundary to align with gold standard\n",
    "    return boundaries\n",
    "\n",
    "def evaluate_segmentation(gold_corpus, pred_corpus):\n",
    "    \"\"\"\n",
    "    Compute precision, recall, and F1-score for word boundary detection.\n",
    "    \"\"\"\n",
    "    gold_boundaries = []\n",
    "    pred_boundaries = []\n",
    "    \n",
    "    for gold_line, pred_line in zip(gold_corpus, pred_corpus):\n",
    "        gold_boundaries.extend(extract_boundaries(gold_line.strip()))\n",
    "        pred_boundaries.extend(extract_boundaries(pred_line.strip()))\n",
    "    \n",
    "    # Ensure the lists are the same length\n",
    "    assert len(gold_boundaries) == len(pred_boundaries), \"Mismatch in boundary sequence lengths.\"\n",
    "    \n",
    "    precision = precision_score(gold_boundaries, pred_boundaries)\n",
    "    recall = recall_score(gold_boundaries, pred_boundaries)\n",
    "    f1 = f1_score(gold_boundaries, pred_boundaries)\n",
    "    \n",
    "    return precision, recall, f1\n",
    "print(len(gold))\n",
    "print(len(pred))\n",
    "# Example usage\n",
    "gold_corpus = gold\n",
    "pred_corpus = pred\n",
    "\n",
    "precision, recall, f1 = evaluate_segmentation(gold_corpus, pred_corpus)\n",
    "print(f\"Precision: {precision:.4f}, Recall: {recall:.4f}, F1-score: {f1:.4f}\")\n"
   ]
  }
 ],
 "metadata": {
  "kernelspec": {
   "display_name": "protolexicon_env",
   "language": "python",
   "name": "python3"
  },
  "language_info": {
   "codemirror_mode": {
    "name": "ipython",
    "version": 3
   },
   "file_extension": ".py",
   "mimetype": "text/x-python",
   "name": "python",
   "nbconvert_exporter": "python",
   "pygments_lexer": "ipython3",
   "version": "3.13.1"
  }
 },
 "nbformat": 4,
 "nbformat_minor": 5
}
